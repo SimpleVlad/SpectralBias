{
  "nbformat": 4,
  "nbformat_minor": 0,
  "metadata": {
    "colab": {
      "name": "Regresion.ipynb",
      "provenance": [],
      "authorship_tag": "ABX9TyNHhjSDGk60kwGaiAqdayvF",
      "include_colab_link": true
    },
    "kernelspec": {
      "name": "python3",
      "display_name": "Python 3"
    }
  },
  "cells": [
    {
      "cell_type": "markdown",
      "metadata": {
        "id": "view-in-github",
        "colab_type": "text"
      },
      "source": [
        "<a href=\"https://colab.research.google.com/github/SimpleVlad/SpectralBias/blob/master/Regresion.ipynb\" target=\"_parent\"><img src=\"https://colab.research.google.com/assets/colab-badge.svg\" alt=\"Open In Colab\"/></a>"
      ]
    },
    {
      "cell_type": "code",
      "metadata": {
        "id": "j8vZXjA2EBRY"
      },
      "source": [
        "from keras.datasets import boston_housing\n",
        "from keras.models import Sequential\n",
        "from keras.layers import Dense\n",
        "\n",
        "import matplotlib\n",
        "from matplotlib import pyplot as plt\n",
        "import seaborn as sns\n",
        "from argparse import Namespace\n",
        "from functools import reduce\n",
        "import numpy as np\n",
        "import random\n",
        "\n",
        "sns.set()\n",
        "%matplotlib inline"
      ],
      "execution_count": 406,
      "outputs": []
    },
    {
      "cell_type": "code",
      "metadata": {
        "id": "3I3xcXS3HNj8"
      },
      "source": [
        "def make_phased_waves(opt):\n",
        "    t = np.arange(0, 1, 1./opt.N)\n",
        "    if opt.A is None:\n",
        "        yt = reduce(lambda a, b: a + b, \n",
        "                    [np.sin(2 * np.pi * ki * t + 2 * np.pi * phi) for ki, phi in zip(opt.K, opt.PHI)])\n",
        "    else:\n",
        "        yt = reduce(lambda a, b: a + b, \n",
        "                    [Ai * np.sin(2 * np.pi * ki * t + 2 * np.pi * phi) for ki, Ai, phi in zip(opt.K, opt.A, opt.PHI)])\n",
        "    return t, yt"
      ],
      "execution_count": 407,
      "outputs": []
    },
    {
      "cell_type": "code",
      "metadata": {
        "id": "kprBxlTpJtUf"
      },
      "source": [
        "def make_plot_sin(opt, x ,y):\n",
        "    fig, (ax0, ax1) = plt.subplots(1, 2, figsize=(9, 4))\n",
        "    ax0.set_title(\"Function\")\n",
        "    ax0.plot(x, y)\n",
        "    ax0.set_xlabel(\"x\")\n",
        "    ax0.set_ylabel(\"f(x)\")    "
      ],
      "execution_count": 408,
      "outputs": []
    },
    {
      "cell_type": "code",
      "metadata": {
        "id": "Bhsf1UQLLGSD"
      },
      "source": [
        "opt = Namespace()\n",
        "data = Namespace()\n",
        "\n",
        "opt.N = 200\n",
        "opt.K = [5, 10, 15, 20, 25, 30, 35, 40, 45, 50]\n",
        "opt.A = [1 for _ in opt.K]\n",
        "opt.PHI = [np.random.rand() for _ in opt.K] "
      ],
      "execution_count": 409,
      "outputs": []
    },
    {
      "cell_type": "code",
      "metadata": {
        "id": "2CPYCsq3LMo7",
        "outputId": "3af9c301-dd97-4c76-dce8-b46721f678c7",
        "colab": {
          "base_uri": "https://localhost:8080/",
          "height": 1000
        }
      },
      "source": [
        "x, y = make_phased_waves(opt)\n",
        "data.x = x\n",
        "data.y = y\n",
        "print(x)\n",
        "print(y)\n"
      ],
      "execution_count": 410,
      "outputs": [
        {
          "output_type": "stream",
          "text": [
            "[0.    0.005 0.01  0.015 0.02  0.025 0.03  0.035 0.04  0.045 0.05  0.055\n",
            " 0.06  0.065 0.07  0.075 0.08  0.085 0.09  0.095 0.1   0.105 0.11  0.115\n",
            " 0.12  0.125 0.13  0.135 0.14  0.145 0.15  0.155 0.16  0.165 0.17  0.175\n",
            " 0.18  0.185 0.19  0.195 0.2   0.205 0.21  0.215 0.22  0.225 0.23  0.235\n",
            " 0.24  0.245 0.25  0.255 0.26  0.265 0.27  0.275 0.28  0.285 0.29  0.295\n",
            " 0.3   0.305 0.31  0.315 0.32  0.325 0.33  0.335 0.34  0.345 0.35  0.355\n",
            " 0.36  0.365 0.37  0.375 0.38  0.385 0.39  0.395 0.4   0.405 0.41  0.415\n",
            " 0.42  0.425 0.43  0.435 0.44  0.445 0.45  0.455 0.46  0.465 0.47  0.475\n",
            " 0.48  0.485 0.49  0.495 0.5   0.505 0.51  0.515 0.52  0.525 0.53  0.535\n",
            " 0.54  0.545 0.55  0.555 0.56  0.565 0.57  0.575 0.58  0.585 0.59  0.595\n",
            " 0.6   0.605 0.61  0.615 0.62  0.625 0.63  0.635 0.64  0.645 0.65  0.655\n",
            " 0.66  0.665 0.67  0.675 0.68  0.685 0.69  0.695 0.7   0.705 0.71  0.715\n",
            " 0.72  0.725 0.73  0.735 0.74  0.745 0.75  0.755 0.76  0.765 0.77  0.775\n",
            " 0.78  0.785 0.79  0.795 0.8   0.805 0.81  0.815 0.82  0.825 0.83  0.835\n",
            " 0.84  0.845 0.85  0.855 0.86  0.865 0.87  0.875 0.88  0.885 0.89  0.895\n",
            " 0.9   0.905 0.91  0.915 0.92  0.925 0.93  0.935 0.94  0.945 0.95  0.955\n",
            " 0.96  0.965 0.97  0.975 0.98  0.985 0.99  0.995]\n",
            "[ 2.94793855e+00  1.13231875e-01 -2.61699199e+00 -1.82502335e+00\n",
            "  1.45695420e-01 -2.53340519e-01 -1.59966952e+00 -8.23257008e-01\n",
            "  9.86389002e-01  1.30846142e+00  1.19034419e+00  2.23010766e+00\n",
            "  2.23164070e+00 -5.57596462e-01 -2.69489560e+00 -1.06632349e+00\n",
            "  7.32380993e-01 -1.74883050e+00 -5.29423473e+00 -3.92034029e+00\n",
            "  6.84894243e-01  1.72237404e+00 -1.62657344e+00 -3.75387552e+00\n",
            " -2.30857659e+00 -5.26969307e-01  1.15094739e-03  1.53561708e+00\n",
            "  4.32531703e+00  4.92589098e+00  1.87536937e+00 -1.76561219e+00\n",
            " -2.75639797e+00 -1.03111024e+00  1.58012828e+00  3.05801012e+00\n",
            "  2.14887333e+00  1.09185107e-01  4.72177808e-02  2.26940061e+00\n",
            "  2.94793855e+00  1.13231875e-01 -2.61699199e+00 -1.82502335e+00\n",
            "  1.45695420e-01 -2.53340519e-01 -1.59966952e+00 -8.23257008e-01\n",
            "  9.86389002e-01  1.30846142e+00  1.19034419e+00  2.23010766e+00\n",
            "  2.23164070e+00 -5.57596462e-01 -2.69489560e+00 -1.06632349e+00\n",
            "  7.32380993e-01 -1.74883050e+00 -5.29423473e+00 -3.92034029e+00\n",
            "  6.84894243e-01  1.72237404e+00 -1.62657344e+00 -3.75387552e+00\n",
            " -2.30857659e+00 -5.26969307e-01  1.15094739e-03  1.53561708e+00\n",
            "  4.32531703e+00  4.92589098e+00  1.87536937e+00 -1.76561219e+00\n",
            " -2.75639797e+00 -1.03111024e+00  1.58012828e+00  3.05801012e+00\n",
            "  2.14887333e+00  1.09185107e-01  4.72177808e-02  2.26940061e+00\n",
            "  2.94793855e+00  1.13231875e-01 -2.61699199e+00 -1.82502335e+00\n",
            "  1.45695420e-01 -2.53340519e-01 -1.59966952e+00 -8.23257008e-01\n",
            "  9.86389002e-01  1.30846142e+00  1.19034419e+00  2.23010766e+00\n",
            "  2.23164070e+00 -5.57596462e-01 -2.69489560e+00 -1.06632349e+00\n",
            "  7.32380993e-01 -1.74883050e+00 -5.29423473e+00 -3.92034029e+00\n",
            "  6.84894243e-01  1.72237404e+00 -1.62657344e+00 -3.75387552e+00\n",
            " -2.30857659e+00 -5.26969307e-01  1.15094739e-03  1.53561708e+00\n",
            "  4.32531703e+00  4.92589098e+00  1.87536937e+00 -1.76561219e+00\n",
            " -2.75639797e+00 -1.03111024e+00  1.58012828e+00  3.05801012e+00\n",
            "  2.14887333e+00  1.09185107e-01  4.72177808e-02  2.26940061e+00\n",
            "  2.94793855e+00  1.13231875e-01 -2.61699199e+00 -1.82502335e+00\n",
            "  1.45695420e-01 -2.53340519e-01 -1.59966952e+00 -8.23257008e-01\n",
            "  9.86389002e-01  1.30846142e+00  1.19034419e+00  2.23010766e+00\n",
            "  2.23164070e+00 -5.57596462e-01 -2.69489560e+00 -1.06632349e+00\n",
            "  7.32380993e-01 -1.74883050e+00 -5.29423473e+00 -3.92034029e+00\n",
            "  6.84894243e-01  1.72237404e+00 -1.62657344e+00 -3.75387552e+00\n",
            " -2.30857659e+00 -5.26969307e-01  1.15094739e-03  1.53561708e+00\n",
            "  4.32531703e+00  4.92589098e+00  1.87536937e+00 -1.76561219e+00\n",
            " -2.75639797e+00 -1.03111024e+00  1.58012828e+00  3.05801012e+00\n",
            "  2.14887333e+00  1.09185107e-01  4.72177808e-02  2.26940061e+00\n",
            "  2.94793855e+00  1.13231875e-01 -2.61699199e+00 -1.82502335e+00\n",
            "  1.45695420e-01 -2.53340519e-01 -1.59966952e+00 -8.23257008e-01\n",
            "  9.86389002e-01  1.30846142e+00  1.19034419e+00  2.23010766e+00\n",
            "  2.23164070e+00 -5.57596462e-01 -2.69489560e+00 -1.06632349e+00\n",
            "  7.32380993e-01 -1.74883050e+00 -5.29423473e+00 -3.92034029e+00\n",
            "  6.84894243e-01  1.72237404e+00 -1.62657344e+00 -3.75387552e+00\n",
            " -2.30857659e+00 -5.26969307e-01  1.15094739e-03  1.53561708e+00\n",
            "  4.32531703e+00  4.92589098e+00  1.87536937e+00 -1.76561219e+00\n",
            " -2.75639797e+00 -1.03111024e+00  1.58012828e+00  3.05801012e+00\n",
            "  2.14887333e+00  1.09185107e-01  4.72177808e-02  2.26940061e+00]\n"
          ],
          "name": "stdout"
        }
      ]
    },
    {
      "cell_type": "code",
      "metadata": {
        "id": "bl-erQnWMTrd"
      },
      "source": [
        "def data_gen(x ,y , opt):\n",
        "    x_train = x\n",
        "    y_train = y\n",
        "    y_test = y\n",
        "    x_test = x\n",
        "    return x_train, y_train, x_test, y_test"
      ],
      "execution_count": 411,
      "outputs": []
    },
    {
      "cell_type": "code",
      "metadata": {
        "id": "Ar55DBdbEd-6",
        "outputId": "c01a2405-1fdd-47e3-bd4a-a718077bdf90",
        "colab": {
          "base_uri": "https://localhost:8080/",
          "height": 34
        }
      },
      "source": [
        "# (x_train, y_train), (x_test, y_test) = boston_housing.load_data()\n",
        "x_train = x\n",
        "y_train = y\n",
        "y_test = y\n",
        "x_test = x\n",
        "print(x_train.shape)"
      ],
      "execution_count": 412,
      "outputs": [
        {
          "output_type": "stream",
          "text": [
            "(200,)\n"
          ],
          "name": "stdout"
        }
      ]
    },
    {
      "cell_type": "code",
      "metadata": {
        "id": "emkl8QJ_iYiB"
      },
      "source": [
        ""
      ],
      "execution_count": 412,
      "outputs": []
    },
    {
      "cell_type": "code",
      "metadata": {
        "id": "CTM4e1_VFKyn",
        "outputId": "d4b90f86-8014-49e4-f55d-24c3541ad0d7",
        "colab": {
          "base_uri": "https://localhost:8080/",
          "height": 1000
        }
      },
      "source": [
        "print(x_train)\n",
        "# Среднее значение\n",
        "# mean = x_train.mean(axis=0)\n",
        "# # Стандартное отклонение\n",
        "# std = x_train.std(axis=0)\n",
        "# x_train -= mean\n",
        "# x_train /= std\n",
        "# x_test -= mean\n",
        "# x_test /= std\n",
        "print(x_train)\n",
        "print(y_train)\n",
        "make_plot_sin(opt, x, y)"
      ],
      "execution_count": 413,
      "outputs": [
        {
          "output_type": "stream",
          "text": [
            "[0.    0.005 0.01  0.015 0.02  0.025 0.03  0.035 0.04  0.045 0.05  0.055\n",
            " 0.06  0.065 0.07  0.075 0.08  0.085 0.09  0.095 0.1   0.105 0.11  0.115\n",
            " 0.12  0.125 0.13  0.135 0.14  0.145 0.15  0.155 0.16  0.165 0.17  0.175\n",
            " 0.18  0.185 0.19  0.195 0.2   0.205 0.21  0.215 0.22  0.225 0.23  0.235\n",
            " 0.24  0.245 0.25  0.255 0.26  0.265 0.27  0.275 0.28  0.285 0.29  0.295\n",
            " 0.3   0.305 0.31  0.315 0.32  0.325 0.33  0.335 0.34  0.345 0.35  0.355\n",
            " 0.36  0.365 0.37  0.375 0.38  0.385 0.39  0.395 0.4   0.405 0.41  0.415\n",
            " 0.42  0.425 0.43  0.435 0.44  0.445 0.45  0.455 0.46  0.465 0.47  0.475\n",
            " 0.48  0.485 0.49  0.495 0.5   0.505 0.51  0.515 0.52  0.525 0.53  0.535\n",
            " 0.54  0.545 0.55  0.555 0.56  0.565 0.57  0.575 0.58  0.585 0.59  0.595\n",
            " 0.6   0.605 0.61  0.615 0.62  0.625 0.63  0.635 0.64  0.645 0.65  0.655\n",
            " 0.66  0.665 0.67  0.675 0.68  0.685 0.69  0.695 0.7   0.705 0.71  0.715\n",
            " 0.72  0.725 0.73  0.735 0.74  0.745 0.75  0.755 0.76  0.765 0.77  0.775\n",
            " 0.78  0.785 0.79  0.795 0.8   0.805 0.81  0.815 0.82  0.825 0.83  0.835\n",
            " 0.84  0.845 0.85  0.855 0.86  0.865 0.87  0.875 0.88  0.885 0.89  0.895\n",
            " 0.9   0.905 0.91  0.915 0.92  0.925 0.93  0.935 0.94  0.945 0.95  0.955\n",
            " 0.96  0.965 0.97  0.975 0.98  0.985 0.99  0.995]\n",
            "[0.    0.005 0.01  0.015 0.02  0.025 0.03  0.035 0.04  0.045 0.05  0.055\n",
            " 0.06  0.065 0.07  0.075 0.08  0.085 0.09  0.095 0.1   0.105 0.11  0.115\n",
            " 0.12  0.125 0.13  0.135 0.14  0.145 0.15  0.155 0.16  0.165 0.17  0.175\n",
            " 0.18  0.185 0.19  0.195 0.2   0.205 0.21  0.215 0.22  0.225 0.23  0.235\n",
            " 0.24  0.245 0.25  0.255 0.26  0.265 0.27  0.275 0.28  0.285 0.29  0.295\n",
            " 0.3   0.305 0.31  0.315 0.32  0.325 0.33  0.335 0.34  0.345 0.35  0.355\n",
            " 0.36  0.365 0.37  0.375 0.38  0.385 0.39  0.395 0.4   0.405 0.41  0.415\n",
            " 0.42  0.425 0.43  0.435 0.44  0.445 0.45  0.455 0.46  0.465 0.47  0.475\n",
            " 0.48  0.485 0.49  0.495 0.5   0.505 0.51  0.515 0.52  0.525 0.53  0.535\n",
            " 0.54  0.545 0.55  0.555 0.56  0.565 0.57  0.575 0.58  0.585 0.59  0.595\n",
            " 0.6   0.605 0.61  0.615 0.62  0.625 0.63  0.635 0.64  0.645 0.65  0.655\n",
            " 0.66  0.665 0.67  0.675 0.68  0.685 0.69  0.695 0.7   0.705 0.71  0.715\n",
            " 0.72  0.725 0.73  0.735 0.74  0.745 0.75  0.755 0.76  0.765 0.77  0.775\n",
            " 0.78  0.785 0.79  0.795 0.8   0.805 0.81  0.815 0.82  0.825 0.83  0.835\n",
            " 0.84  0.845 0.85  0.855 0.86  0.865 0.87  0.875 0.88  0.885 0.89  0.895\n",
            " 0.9   0.905 0.91  0.915 0.92  0.925 0.93  0.935 0.94  0.945 0.95  0.955\n",
            " 0.96  0.965 0.97  0.975 0.98  0.985 0.99  0.995]\n",
            "[ 2.94793855e+00  1.13231875e-01 -2.61699199e+00 -1.82502335e+00\n",
            "  1.45695420e-01 -2.53340519e-01 -1.59966952e+00 -8.23257008e-01\n",
            "  9.86389002e-01  1.30846142e+00  1.19034419e+00  2.23010766e+00\n",
            "  2.23164070e+00 -5.57596462e-01 -2.69489560e+00 -1.06632349e+00\n",
            "  7.32380993e-01 -1.74883050e+00 -5.29423473e+00 -3.92034029e+00\n",
            "  6.84894243e-01  1.72237404e+00 -1.62657344e+00 -3.75387552e+00\n",
            " -2.30857659e+00 -5.26969307e-01  1.15094739e-03  1.53561708e+00\n",
            "  4.32531703e+00  4.92589098e+00  1.87536937e+00 -1.76561219e+00\n",
            " -2.75639797e+00 -1.03111024e+00  1.58012828e+00  3.05801012e+00\n",
            "  2.14887333e+00  1.09185107e-01  4.72177808e-02  2.26940061e+00\n",
            "  2.94793855e+00  1.13231875e-01 -2.61699199e+00 -1.82502335e+00\n",
            "  1.45695420e-01 -2.53340519e-01 -1.59966952e+00 -8.23257008e-01\n",
            "  9.86389002e-01  1.30846142e+00  1.19034419e+00  2.23010766e+00\n",
            "  2.23164070e+00 -5.57596462e-01 -2.69489560e+00 -1.06632349e+00\n",
            "  7.32380993e-01 -1.74883050e+00 -5.29423473e+00 -3.92034029e+00\n",
            "  6.84894243e-01  1.72237404e+00 -1.62657344e+00 -3.75387552e+00\n",
            " -2.30857659e+00 -5.26969307e-01  1.15094739e-03  1.53561708e+00\n",
            "  4.32531703e+00  4.92589098e+00  1.87536937e+00 -1.76561219e+00\n",
            " -2.75639797e+00 -1.03111024e+00  1.58012828e+00  3.05801012e+00\n",
            "  2.14887333e+00  1.09185107e-01  4.72177808e-02  2.26940061e+00\n",
            "  2.94793855e+00  1.13231875e-01 -2.61699199e+00 -1.82502335e+00\n",
            "  1.45695420e-01 -2.53340519e-01 -1.59966952e+00 -8.23257008e-01\n",
            "  9.86389002e-01  1.30846142e+00  1.19034419e+00  2.23010766e+00\n",
            "  2.23164070e+00 -5.57596462e-01 -2.69489560e+00 -1.06632349e+00\n",
            "  7.32380993e-01 -1.74883050e+00 -5.29423473e+00 -3.92034029e+00\n",
            "  6.84894243e-01  1.72237404e+00 -1.62657344e+00 -3.75387552e+00\n",
            " -2.30857659e+00 -5.26969307e-01  1.15094739e-03  1.53561708e+00\n",
            "  4.32531703e+00  4.92589098e+00  1.87536937e+00 -1.76561219e+00\n",
            " -2.75639797e+00 -1.03111024e+00  1.58012828e+00  3.05801012e+00\n",
            "  2.14887333e+00  1.09185107e-01  4.72177808e-02  2.26940061e+00\n",
            "  2.94793855e+00  1.13231875e-01 -2.61699199e+00 -1.82502335e+00\n",
            "  1.45695420e-01 -2.53340519e-01 -1.59966952e+00 -8.23257008e-01\n",
            "  9.86389002e-01  1.30846142e+00  1.19034419e+00  2.23010766e+00\n",
            "  2.23164070e+00 -5.57596462e-01 -2.69489560e+00 -1.06632349e+00\n",
            "  7.32380993e-01 -1.74883050e+00 -5.29423473e+00 -3.92034029e+00\n",
            "  6.84894243e-01  1.72237404e+00 -1.62657344e+00 -3.75387552e+00\n",
            " -2.30857659e+00 -5.26969307e-01  1.15094739e-03  1.53561708e+00\n",
            "  4.32531703e+00  4.92589098e+00  1.87536937e+00 -1.76561219e+00\n",
            " -2.75639797e+00 -1.03111024e+00  1.58012828e+00  3.05801012e+00\n",
            "  2.14887333e+00  1.09185107e-01  4.72177808e-02  2.26940061e+00\n",
            "  2.94793855e+00  1.13231875e-01 -2.61699199e+00 -1.82502335e+00\n",
            "  1.45695420e-01 -2.53340519e-01 -1.59966952e+00 -8.23257008e-01\n",
            "  9.86389002e-01  1.30846142e+00  1.19034419e+00  2.23010766e+00\n",
            "  2.23164070e+00 -5.57596462e-01 -2.69489560e+00 -1.06632349e+00\n",
            "  7.32380993e-01 -1.74883050e+00 -5.29423473e+00 -3.92034029e+00\n",
            "  6.84894243e-01  1.72237404e+00 -1.62657344e+00 -3.75387552e+00\n",
            " -2.30857659e+00 -5.26969307e-01  1.15094739e-03  1.53561708e+00\n",
            "  4.32531703e+00  4.92589098e+00  1.87536937e+00 -1.76561219e+00\n",
            " -2.75639797e+00 -1.03111024e+00  1.58012828e+00  3.05801012e+00\n",
            "  2.14887333e+00  1.09185107e-01  4.72177808e-02  2.26940061e+00]\n"
          ],
          "name": "stdout"
        },
        {
          "output_type": "display_data",
          "data": {
            "image/png": "[encoded data removed]",
            "text/plain": [
              "<Figure size 648x288 with 2 Axes>"
            ]
          },
          "metadata": {
            "tags": [],
            "needs_background": "light"
          }
        }
      ]
    },
    {
      "cell_type": "code",
      "metadata": {
        "id": "SGK4R_XPFUtQ"
      },
      "source": [
        "# Подготовка\n",
        "model = Sequential()\n",
        "model.add(Dense(50, activation='relu', input_shape=(1,)))\n",
        "model.add(Dense(1))\n",
        "model.compile(optimizer='adam', loss='mse', metrics=['mae'])"
      ],
      "execution_count": 414,
      "outputs": []
    },
    {
      "cell_type": "code",
      "metadata": {
        "id": "9DeQL8E1Fbsn",
        "outputId": "dd969491-048b-4ddc-c0d9-932ba8e24e06",
        "colab": {
          "base_uri": "https://localhost:8080/",
          "height": 1000
        }
      },
      "source": [
        "model.fit(x_train, y_train, epochs=100, batch_size=1, verbose=2)"
      ],
      "execution_count": 415,
      "outputs": [
        {
          "output_type": "stream",
          "text": [
            "Epoch 1/100\n",
            "200/200 - 0s - loss: 5.0483 - mae: 1.8263\n",
            "Epoch 2/100\n",
            "200/200 - 0s - loss: 5.0215 - mae: 1.8109\n",
            "Epoch 3/100\n",
            "200/200 - 0s - loss: 5.0187 - mae: 1.8088\n",
            "Epoch 4/100\n",
            "200/200 - 0s - loss: 5.0161 - mae: 1.8124\n",
            "Epoch 5/100\n",
            "200/200 - 0s - loss: 5.0173 - mae: 1.8103\n",
            "Epoch 6/100\n",
            "200/200 - 0s - loss: 5.0138 - mae: 1.8100\n",
            "Epoch 7/100\n",
            "200/200 - 0s - loss: 5.0149 - mae: 1.8126\n",
            "Epoch 8/100\n",
            "200/200 - 0s - loss: 5.0122 - mae: 1.8075\n",
            "Epoch 9/100\n",
            "200/200 - 0s - loss: 5.0112 - mae: 1.8076\n",
            "Epoch 10/100\n",
            "200/200 - 0s - loss: 5.0179 - mae: 1.8120\n",
            "Epoch 11/100\n",
            "200/200 - 0s - loss: 5.0134 - mae: 1.8099\n",
            "Epoch 12/100\n",
            "200/200 - 0s - loss: 5.0175 - mae: 1.8081\n",
            "Epoch 13/100\n",
            "200/200 - 0s - loss: 5.0088 - mae: 1.8087\n",
            "Epoch 14/100\n",
            "200/200 - 0s - loss: 5.0169 - mae: 1.8123\n",
            "Epoch 15/100\n",
            "200/200 - 0s - loss: 5.0089 - mae: 1.8094\n",
            "Epoch 16/100\n",
            "200/200 - 0s - loss: 5.0151 - mae: 1.8104\n",
            "Epoch 17/100\n",
            "200/200 - 0s - loss: 5.0076 - mae: 1.8098\n",
            "Epoch 18/100\n",
            "200/200 - 0s - loss: 5.0125 - mae: 1.8094\n",
            "Epoch 19/100\n",
            "200/200 - 0s - loss: 5.0112 - mae: 1.8094\n",
            "Epoch 20/100\n",
            "200/200 - 0s - loss: 5.0096 - mae: 1.8094\n",
            "Epoch 21/100\n",
            "200/200 - 0s - loss: 5.0036 - mae: 1.8100\n",
            "Epoch 22/100\n",
            "200/200 - 0s - loss: 5.0096 - mae: 1.8089\n",
            "Epoch 23/100\n",
            "200/200 - 0s - loss: 5.0068 - mae: 1.8092\n",
            "Epoch 24/100\n",
            "200/200 - 0s - loss: 5.0051 - mae: 1.8116\n",
            "Epoch 25/100\n",
            "200/200 - 0s - loss: 5.0119 - mae: 1.8146\n",
            "Epoch 26/100\n",
            "200/200 - 0s - loss: 5.0052 - mae: 1.8083\n",
            "Epoch 27/100\n",
            "200/200 - 0s - loss: 5.0125 - mae: 1.8103\n",
            "Epoch 28/100\n",
            "200/200 - 0s - loss: 5.0045 - mae: 1.8084\n",
            "Epoch 29/100\n",
            "200/200 - 0s - loss: 5.0065 - mae: 1.8104\n",
            "Epoch 30/100\n",
            "200/200 - 0s - loss: 5.0091 - mae: 1.8097\n",
            "Epoch 31/100\n",
            "200/200 - 0s - loss: 5.0041 - mae: 1.8096\n",
            "Epoch 32/100\n",
            "200/200 - 0s - loss: 5.0040 - mae: 1.8087\n",
            "Epoch 33/100\n",
            "200/200 - 0s - loss: 5.0024 - mae: 1.8090\n",
            "Epoch 34/100\n",
            "200/200 - 0s - loss: 5.0057 - mae: 1.8093\n",
            "Epoch 35/100\n",
            "200/200 - 0s - loss: 5.0092 - mae: 1.8099\n",
            "Epoch 36/100\n",
            "200/200 - 0s - loss: 5.0027 - mae: 1.8083\n",
            "Epoch 37/100\n",
            "200/200 - 0s - loss: 5.0044 - mae: 1.8097\n",
            "Epoch 38/100\n",
            "200/200 - 0s - loss: 5.0014 - mae: 1.8092\n",
            "Epoch 39/100\n",
            "200/200 - 0s - loss: 5.0025 - mae: 1.8100\n",
            "Epoch 40/100\n",
            "200/200 - 0s - loss: 5.0047 - mae: 1.8098\n",
            "Epoch 41/100\n",
            "200/200 - 0s - loss: 5.0064 - mae: 1.8078\n",
            "Epoch 42/100\n",
            "200/200 - 0s - loss: 5.0068 - mae: 1.8102\n",
            "Epoch 43/100\n",
            "200/200 - 0s - loss: 5.0053 - mae: 1.8103\n",
            "Epoch 44/100\n",
            "200/200 - 0s - loss: 5.0040 - mae: 1.8097\n",
            "Epoch 45/100\n",
            "200/200 - 0s - loss: 5.0059 - mae: 1.8080\n",
            "Epoch 46/100\n",
            "200/200 - 0s - loss: 5.0029 - mae: 1.8103\n",
            "Epoch 47/100\n",
            "200/200 - 0s - loss: 5.0041 - mae: 1.8089\n",
            "Epoch 48/100\n",
            "200/200 - 0s - loss: 5.0059 - mae: 1.8089\n",
            "Epoch 49/100\n",
            "200/200 - 0s - loss: 5.0023 - mae: 1.8096\n",
            "Epoch 50/100\n",
            "200/200 - 0s - loss: 5.0024 - mae: 1.8091\n",
            "Epoch 51/100\n",
            "200/200 - 0s - loss: 5.0038 - mae: 1.8084\n",
            "Epoch 52/100\n",
            "200/200 - 0s - loss: 5.0040 - mae: 1.8108\n",
            "Epoch 53/100\n",
            "200/200 - 0s - loss: 5.0058 - mae: 1.8098\n",
            "Epoch 54/100\n",
            "200/200 - 0s - loss: 5.0039 - mae: 1.8111\n",
            "Epoch 55/100\n",
            "200/200 - 0s - loss: 5.0017 - mae: 1.8095\n",
            "Epoch 56/100\n",
            "200/200 - 0s - loss: 5.0025 - mae: 1.8095\n",
            "Epoch 57/100\n",
            "200/200 - 0s - loss: 5.0037 - mae: 1.8078\n",
            "Epoch 58/100\n",
            "200/200 - 0s - loss: 5.0073 - mae: 1.8109\n",
            "Epoch 59/100\n",
            "200/200 - 0s - loss: 5.0051 - mae: 1.8095\n",
            "Epoch 60/100\n",
            "200/200 - 0s - loss: 5.0003 - mae: 1.8094\n",
            "Epoch 61/100\n",
            "200/200 - 0s - loss: 5.0071 - mae: 1.8119\n",
            "Epoch 62/100\n",
            "200/200 - 0s - loss: 5.0018 - mae: 1.8101\n",
            "Epoch 63/100\n",
            "200/200 - 0s - loss: 5.0022 - mae: 1.8099\n",
            "Epoch 64/100\n",
            "200/200 - 0s - loss: 5.0073 - mae: 1.8091\n",
            "Epoch 65/100\n",
            "200/200 - 0s - loss: 5.0084 - mae: 1.8101\n",
            "Epoch 66/100\n",
            "200/200 - 0s - loss: 5.0041 - mae: 1.8098\n",
            "Epoch 67/100\n",
            "200/200 - 0s - loss: 5.0010 - mae: 1.8100\n",
            "Epoch 68/100\n",
            "200/200 - 0s - loss: 5.0076 - mae: 1.8095\n",
            "Epoch 69/100\n",
            "200/200 - 0s - loss: 5.0030 - mae: 1.8084\n",
            "Epoch 70/100\n",
            "200/200 - 0s - loss: 5.0032 - mae: 1.8103\n",
            "Epoch 71/100\n",
            "200/200 - 0s - loss: 5.0001 - mae: 1.8098\n",
            "Epoch 72/100\n",
            "200/200 - 0s - loss: 5.0023 - mae: 1.8089\n",
            "Epoch 73/100\n",
            "200/200 - 0s - loss: 5.0002 - mae: 1.8095\n",
            "Epoch 74/100\n",
            "200/200 - 0s - loss: 4.9978 - mae: 1.8094\n",
            "Epoch 75/100\n",
            "200/200 - 0s - loss: 5.0005 - mae: 1.8098\n",
            "Epoch 76/100\n",
            "200/200 - 0s - loss: 5.0011 - mae: 1.8094\n",
            "Epoch 77/100\n",
            "200/200 - 0s - loss: 5.0024 - mae: 1.8076\n",
            "Epoch 78/100\n",
            "200/200 - 0s - loss: 5.0016 - mae: 1.8085\n",
            "Epoch 79/100\n",
            "200/200 - 0s - loss: 5.0009 - mae: 1.8101\n",
            "Epoch 80/100\n",
            "200/200 - 0s - loss: 4.9998 - mae: 1.8092\n",
            "Epoch 81/100\n",
            "200/200 - 0s - loss: 5.0006 - mae: 1.8103\n",
            "Epoch 82/100\n",
            "200/200 - 0s - loss: 5.0003 - mae: 1.8091\n",
            "Epoch 83/100\n",
            "200/200 - 0s - loss: 5.0024 - mae: 1.8107\n",
            "Epoch 84/100\n",
            "200/200 - 0s - loss: 5.0015 - mae: 1.8090\n",
            "Epoch 85/100\n",
            "200/200 - 0s - loss: 5.0040 - mae: 1.8089\n",
            "Epoch 86/100\n",
            "200/200 - 0s - loss: 5.0019 - mae: 1.8099\n",
            "Epoch 87/100\n",
            "200/200 - 0s - loss: 5.0032 - mae: 1.8094\n",
            "Epoch 88/100\n",
            "200/200 - 0s - loss: 4.9986 - mae: 1.8097\n",
            "Epoch 89/100\n",
            "200/200 - 0s - loss: 4.9994 - mae: 1.8084\n",
            "Epoch 90/100\n",
            "200/200 - 0s - loss: 5.0008 - mae: 1.8089\n",
            "Epoch 91/100\n",
            "200/200 - 0s - loss: 5.0008 - mae: 1.8101\n",
            "Epoch 92/100\n",
            "200/200 - 0s - loss: 4.9987 - mae: 1.8088\n",
            "Epoch 93/100\n",
            "200/200 - 0s - loss: 5.0021 - mae: 1.8100\n",
            "Epoch 94/100\n",
            "200/200 - 0s - loss: 5.0020 - mae: 1.8101\n",
            "Epoch 95/100\n",
            "200/200 - 0s - loss: 5.0009 - mae: 1.8081\n",
            "Epoch 96/100\n",
            "200/200 - 0s - loss: 4.9998 - mae: 1.8095\n",
            "Epoch 97/100\n",
            "200/200 - 0s - loss: 4.9978 - mae: 1.8083\n",
            "Epoch 98/100\n",
            "200/200 - 0s - loss: 5.0071 - mae: 1.8117\n",
            "Epoch 99/100\n",
            "200/200 - 0s - loss: 5.0017 - mae: 1.8095\n",
            "Epoch 100/100\n",
            "200/200 - 0s - loss: 5.0020 - mae: 1.8107\n"
          ],
          "name": "stdout"
        },
        {
          "output_type": "execute_result",
          "data": {
            "text/plain": [
              "<tensorflow.python.keras.callbacks.History at 0x7fac4226f518>"
            ]
          },
          "metadata": {
            "tags": []
          },
          "execution_count": 415
        }
      ]
    },
    {
      "cell_type": "code",
      "metadata": {
        "id": "Vdgjs-IaFmff"
      },
      "source": [
        "mse, mae = model.evaluate(x_test, y_test, verbose=0)"
      ],
      "execution_count": 416,
      "outputs": []
    },
    {
      "cell_type": "code",
      "metadata": {
        "id": "Sv9piyO-Fsc0",
        "outputId": "40680b76-70dc-40c9-d411-ad6b00914841",
        "colab": {
          "base_uri": "https://localhost:8080/",
          "height": 34
        }
      },
      "source": [
        "print(\"Средняя абсолютная ошибка (тысяч долларов):\", mae)"
      ],
      "execution_count": 417,
      "outputs": [
        {
          "output_type": "stream",
          "text": [
            "Средняя абсолютная ошибка (тысяч долларов): 1.8084384202957153\n"
          ],
          "name": "stdout"
        }
      ]
    },
    {
      "cell_type": "code",
      "metadata": {
        "id": "uWdsn1NLFxP0"
      },
      "source": [
        "pred = model.predict(x)"
      ],
      "execution_count": 418,
      "outputs": []
    },
    {
      "cell_type": "code",
      "metadata": {
        "id": "5tnqtw1RF2D7",
        "outputId": "9a505d68-c735-45eb-87b5-2fd2d47e553d",
        "colab": {
          "base_uri": "https://localhost:8080/",
          "height": 34
        }
      },
      "source": [
        "print(\"Предсказанная стоимость:\", pred[1][0], \", правильная стоимость:\", y_test[1])"
      ],
      "execution_count": 419,
      "outputs": [
        {
          "output_type": "stream",
          "text": [
            "Предсказанная стоимость: -0.087423176 , правильная стоимость: 0.1132318747137025\n"
          ],
          "name": "stdout"
        }
      ]
    },
    {
      "cell_type": "code",
      "metadata": {
        "id": "e0w6nRMci4JK",
        "outputId": "25e05063-30ea-4f15-85e0-957d09887f6b",
        "colab": {
          "base_uri": "https://localhost:8080/",
          "height": 585
        }
      },
      "source": [
        "make_plot_sin(opt, x_train, pred)\n",
        "make_plot_sin(opt, x, y)\n",
        "# print(pred)\n",
        "# print(y)\n",
        "# print(x_test)\n",
        "# print(x)"
      ],
      "execution_count": 420,
      "outputs": [
        {
          "output_type": "display_data",
          "data": {
            "image/png": "[encoded data removed]",
            "text/plain": [
              "<Figure size 648x288 with 2 Axes>"
            ]
          },
          "metadata": {
            "tags": [],
            "needs_background": "light"
          }
        },
        {
          "output_type": "display_data",
          "data": {
            "image/png": "[encoded data removed]",
            "text/plain": [
              "<Figure size 648x288 with 2 Axes>"
            ]
          },
          "metadata": {
            "tags": [],
            "needs_background": "light"
          }
        }
      ]
    }
  ]
}